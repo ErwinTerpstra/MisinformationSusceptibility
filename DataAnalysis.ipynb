{
 "cells": [
  {
   "cell_type": "code",
   "execution_count": 1,
   "id": "2cd42973",
   "metadata": {},
   "outputs": [],
   "source": [
    "import pandas as pd"
   ]
  },
  {
   "cell_type": "code",
   "execution_count": null,
   "id": "4cbd6b33",
   "metadata": {},
   "outputs": [],
   "source": [
    "DATA_FOLDER = \"Data\"\n",
    "\n",
    "EXPERIMENT_NAMES = \\\n",
    "{\n",
    "\t\"EX1\": \"EX1. Baseline\",\n",
    "\t\"EX2\": \"EX2. WithoutAnchoring\",\n",
    "\t\"EX3\": \"EX3. WithAnchoring\",\n",
    "}\n",
    "\n",
    "def experiment_file(experiment_label):\n",
    "\treturn f'{DATA_FOLDER}/InformationDiffusionProcesModel {EXPERIMENT_NAMES[experiment_label]}-table.csv'"
   ]
  }
 ],
 "metadata": {
  "kernelspec": {
   "display_name": "base",
   "language": "python",
   "name": "python3"
  },
  "language_info": {
   "codemirror_mode": {
    "name": "ipython",
    "version": 3
   },
   "file_extension": ".py",
   "mimetype": "text/x-python",
   "name": "python",
   "nbconvert_exporter": "python",
   "pygments_lexer": "ipython3",
   "version": "3.12.3"
  }
 },
 "nbformat": 4,
 "nbformat_minor": 5
}
